{
 "cells": [
  {
   "cell_type": "code",
   "execution_count": 1,
   "id": "8d814d7a-b1ab-48b6-9979-c992d2bce4ac",
   "metadata": {},
   "outputs": [],
   "source": [
    "import numpy as np\n",
    "import pandas as pd\n",
    "import matplotlib.pyplot as plt\n",
    "import networkx as nx\n",
    "from constraint import Problem"
   ]
  },
  {
   "cell_type": "markdown",
   "id": "05c20bc3-1ae1-4182-ac85-844371f7795d",
   "metadata": {},
   "source": [
    "## Question 1"
   ]
  },
  {
   "cell_type": "code",
   "execution_count": 2,
   "id": "d56fb69f-c770-4347-8d21-5e1dd8081253",
   "metadata": {},
   "outputs": [
    {
     "name": "stdout",
     "output_type": "stream",
     "text": [
      "Pruning at Min node with alpha=5, beta=2\n",
      "Pruning at Min node with alpha=5, beta=2\n",
      "\n",
      "Result of Alpha-Beta Pruning (Min-Max value of root): 5\n"
     ]
    }
   ],
   "source": [
    "class Node:\n",
    "    def __init__(self, value=None, children=None):\n",
    "        self.value = value  \n",
    "        self.children = children if children else []  # Child nodes (empty for leaf nodes)\n",
    "\n",
    "# Alpha-Beta Pruning function\n",
    "def alpha_beta(node, alpha, beta, maximizing_player, pruned_nodes, depth=0):\n",
    "    indent = '  ' * depth\n",
    "    if not node.children:\n",
    "        return node.value\n",
    "    \n",
    "    pruned = False  \n",
    "    \n",
    "    if maximizing_player:\n",
    "        max_eval = float('-inf')\n",
    "        for child in node.children:\n",
    "            eval = alpha_beta(child, alpha, beta, False, pruned_nodes, depth + 1)\n",
    "            max_eval = max(max_eval, eval)\n",
    "            alpha = max(alpha, eval)\n",
    "            \n",
    "            if beta <= alpha:  # Pruning condition\n",
    "                if not pruned:\n",
    "                    pruned_nodes.append(child)  # Append pruned child node\n",
    "                    print(f\"Pruning at Max node with alpha={alpha}, beta={beta}\")\n",
    "                    pruned = True  # Set flag to avoid duplicate printing\n",
    "                break  # Beta cutoff (prune the remaining children)\n",
    "        return max_eval\n",
    "\n",
    "    else:\n",
    "        # Minimizing player\n",
    "        min_eval = float('inf')\n",
    "        for child in node.children:\n",
    "            eval = alpha_beta(child, alpha, beta, True, pruned_nodes, depth + 1)\n",
    "            min_eval = min(min_eval, eval)\n",
    "            beta = min(beta, eval)\n",
    "            \n",
    "            if beta <= alpha:  # Pruning condition\n",
    "                if not pruned:\n",
    "                    pruned_nodes.append(child)  # Append pruned child node\n",
    "                    print(f\"Pruning at Min node with alpha={alpha}, beta={beta}\")\n",
    "                    pruned = True  # Set flag to avoid duplicate printing\n",
    "                break  # Alpha cutoff (prune the remaining children)\n",
    "        return min_eval\n",
    "\n",
    "# Tree structure \n",
    "\n",
    "#          root node\n",
    "#          /       \\\n",
    "#  leaf1=5         min_node_1\n",
    "#                   /       \\\n",
    "#         max_node_1          max_node_2\n",
    "#        /         \\         /          \\\n",
    "# leaf2=1      min_node_2 leaf3=5      min_node_3\n",
    "#              /        \\              /         \\\n",
    "#       leaf4=4       leaf5=2     leaf6=4     leaf7=3\n",
    "\n",
    "# Nodes defined\n",
    "leaf1 = Node(value=5)\n",
    "leaf2 = Node(value=1)\n",
    "leaf5 = Node(value=2)\n",
    "leaf4 = Node(value=4)\n",
    "leaf3 = Node(value=5)\n",
    "leaf6 = Node(value=4)\n",
    "leaf7 = Node(value=3)\n",
    "min_node3 = Node(children=[leaf6, leaf7])\n",
    "min_node2 = Node(children=[leaf5, leaf4]) \n",
    "max_node2 = Node(children=[leaf3, min_node3])\n",
    "max_node1 = Node(children=[leaf2, min_node2]) \n",
    "min_node1 = Node(children=[max_node1, max_node2])\n",
    "root = Node(children=[leaf1, min_node1])\n",
    "\n",
    "pruned_nodes = []\n",
    "\n",
    "# Run Alpha-Beta Pruning\n",
    "result = alpha_beta(root, float('-inf'), float('inf'), True, pruned_nodes)\n",
    "\n",
    "# Display results\n",
    "print(f\"\\nResult of Alpha-Beta Pruning (Min-Max value of root): {result}\")\n"
   ]
  },
  {
   "cell_type": "markdown",
   "id": "a919788c-472e-4288-83af-1f34f0d910a0",
   "metadata": {},
   "source": [
    "## Question 2"
   ]
  },
  {
   "cell_type": "code",
   "execution_count": 3,
   "id": "d41bd36a-d16a-4a9a-9f1a-2a1b77901b71",
   "metadata": {
    "scrolled": true
   },
   "outputs": [
    {
     "name": "stdout",
     "output_type": "stream",
     "text": [
      "Service Schedule\n",
      "Week1_Monday_Routine Checkup_Dr1:\t0\n",
      "Week1_Monday_Routine Checkup_Dr2:\t7\n",
      "Week2_Monday_Routine Checkup_Dr1:\t0\n",
      "Week2_Monday_Routine Checkup_Dr2:\t7\n",
      "Week1_Tuesday_Routine Checkup_Dr1:\t7\n",
      "Week1_Tuesday_Routine Checkup_Dr2:\t0\n",
      "Week2_Tuesday_Routine Checkup_Dr1:\t7\n",
      "Week2_Tuesday_Routine Checkup_Dr2:\t0\n",
      "Week1_Wednesday_Routine Checkup_Dr1:\t7\n",
      "Week1_Wednesday_Routine Checkup_Dr2:\t0\n",
      "Week2_Wednesday_Routine Checkup_Dr1:\t7\n",
      "Week2_Wednesday_Routine Checkup_Dr2:\t0\n",
      "Week1_Friday_Routine Checkup_Dr1:\t0\n",
      "Week1_Friday_Routine Checkup_Dr2:\t7\n",
      "Week2_Friday_Routine Checkup_Dr1:\t0\n",
      "Week2_Friday_Routine Checkup_Dr2:\t7\n",
      "Week1_Wednesday_Blood Test_Dr1:\t0\n",
      "Week1_Wednesday_Blood Test_Dr2:\t4\n",
      "Week2_Wednesday_Blood Test_Dr1:\t4\n",
      "Week2_Wednesday_Blood Test_Dr2:\t0\n",
      "Week1_Thursday_Surgery_Dr1:\t0\n",
      "Week1_Thursday_Surgery_Dr2:\t5\n",
      "Week2_Thursday_Surgery_Dr1:\t5\n",
      "Week2_Thursday_Surgery_Dr2:\t0\n"
     ]
    }
   ],
   "source": [
    "# Define constants \n",
    "DOCTORS = ['Doctor 1', 'Doctor 2']\n",
    "SERVICES = {\n",
    "    'Routine_Checkup': 7,  # 9am - 4pm\n",
    "    'Blood_Test': 4,       # 9am - 1pm\n",
    "    'Surgery': 5           # 10am - 3pm\n",
    "}\n",
    "\n",
    "# Define the weekly schedule \n",
    "WEEKDAYS = ['Monday', 'Tuesday', 'Wednesday', 'Thursday', 'Friday']\n",
    "SERVICE_DAYS = {\n",
    "    'Routine_Checkup': ['Monday', 'Tuesday', 'Wednesday', 'Friday'],\n",
    "    'Blood_Test': ['Wednesday'],\n",
    "    'Surgery': ['Thursday']\n",
    "}\n",
    "\n",
    "# Define number of weeks \n",
    "NUM_WEEKS = 2  \n",
    "\n",
    "# Initialize \n",
    "problem = Problem()\n",
    "\n",
    "# Add variables for each service in each week, with domains of the doctors\n",
    "for week in range(1, NUM_WEEKS + 1):\n",
    "    for service in SERVICES.keys():\n",
    "        for day in SERVICE_DAYS[service]:\n",
    "            service_name = f\"{service}_{day}_Week{week}\"\n",
    "            problem.addVariable(service_name, DOCTORS)\n",
    "\n",
    "# Constraint 1: Balance the total hours worked for both doctors across all weeks\n",
    "def balance_workload(*assigned_doctors):\n",
    "    doctor_hours = {'Doctor 1': 0, 'Doctor 2': 0}\n",
    "    idx = 0\n",
    "    for service in SERVICES.keys():\n",
    "        for day in SERVICE_DAYS[service]:\n",
    "            for week in range(1, NUM_WEEKS + 1):\n",
    "                service_name = f\"{service}_{day}_Week{week}\"\n",
    "                doctor_hours[assigned_doctors[idx]] += SERVICES[service]\n",
    "                idx += 1\n",
    "    # Ensure both doctors have equal workload\n",
    "    return doctor_hours['Doctor 1'] == doctor_hours['Doctor 2']\n",
    "\n",
    "\n",
    "problem.addConstraint(balance_workload, [f\"{service}_{day}_Week{week}\" for service in SERVICES.keys() for day in SERVICE_DAYS[service] for week in range(1, NUM_WEEKS + 1)])\n",
    "\n",
    "# Get solutions to the CSP\n",
    "solutions = problem.getSolutions()\n",
    "\n",
    "# Display solutions \n",
    "if solutions:\n",
    "    solution = solutions[0]  # first solution\n",
    "    print(\"Service Schedule\")\n",
    "\n",
    "    for service, days in SERVICE_DAYS.items():\n",
    "        for day in days:\n",
    "            for week in range(1, NUM_WEEKS + 1):\n",
    "                service_name = f\"{service}_{day}_Week{week}\"\n",
    "                if service_name in solution:\n",
    "                    doctor = solution[service_name]\n",
    "                    # Print the doctor assignments for each service, week, and day\n",
    "                    if doctor == \"Doctor 1\":\n",
    "                        print(f\"Week{week}_{day}_{service.replace('_', ' ')}_Dr1:\\t{SERVICES[service]}\")\n",
    "                        print(f\"Week{week}_{day}_{service.replace('_', ' ')}_Dr2:\\t0\")\n",
    "                    elif doctor == \"Doctor 2\":\n",
    "                        print(f\"Week{week}_{day}_{service.replace('_', ' ')}_Dr1:\\t0\")\n",
    "                        print(f\"Week{week}_{day}_{service.replace('_', ' ')}_Dr2:\\t{SERVICES[service]}\")\n",
    "else:\n",
    "    print(\"No solution found\")"
   ]
  },
  {
   "cell_type": "code",
   "execution_count": 4,
   "id": "f4111954-6f67-4d0d-a038-fad41ff875c7",
   "metadata": {},
   "outputs": [
    {
     "name": "stdout",
     "output_type": "stream",
     "text": [
      "Number of possible solutions: 280\n"
     ]
    }
   ],
   "source": [
    "number_of_solutions = len(solutions)\n",
    "print(f\"Number of possible solutions: {number_of_solutions}\")"
   ]
  },
  {
   "cell_type": "code",
   "execution_count": null,
   "id": "abbaf9d9-fca7-4140-bfb8-598dbaf76546",
   "metadata": {},
   "outputs": [],
   "source": []
  }
 ],
 "metadata": {
  "kernelspec": {
   "display_name": "Python 3 (ipykernel)",
   "language": "python",
   "name": "python3"
  },
  "language_info": {
   "codemirror_mode": {
    "name": "ipython",
    "version": 3
   },
   "file_extension": ".py",
   "mimetype": "text/x-python",
   "name": "python",
   "nbconvert_exporter": "python",
   "pygments_lexer": "ipython3",
   "version": "3.12.4"
  }
 },
 "nbformat": 4,
 "nbformat_minor": 5
}
