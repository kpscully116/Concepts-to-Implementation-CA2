{
 "cells": [
  {
   "cell_type": "code",
   "execution_count": 2,
   "id": "8d814d7a-b1ab-48b6-9979-c992d2bce4ac",
   "metadata": {},
   "outputs": [],
   "source": [
    "import numpy as np\n",
    "import pandas as pd\n",
    "import tensorflow as tf\n",
    "import seaborn as sns\n",
    "import matplotlib.pyplot as plt"
   ]
  },
  {
   "cell_type": "code",
   "execution_count": 3,
   "id": "e4204c5d-549e-471e-8ddc-98aec852bddd",
   "metadata": {},
   "outputs": [
    {
     "ename": "ModuleNotFoundError",
     "evalue": "No module named 'ortools'",
     "output_type": "error",
     "traceback": [
      "\u001b[1;31m---------------------------------------------------------------------------\u001b[0m",
      "\u001b[1;31mModuleNotFoundError\u001b[0m                       Traceback (most recent call last)",
      "Cell \u001b[1;32mIn[3], line 1\u001b[0m\n\u001b[1;32m----> 1\u001b[0m \u001b[38;5;28;01mfrom\u001b[39;00m \u001b[38;5;21;01mortools\u001b[39;00m\u001b[38;5;21;01m.\u001b[39;00m\u001b[38;5;21;01msat\u001b[39;00m\u001b[38;5;21;01m.\u001b[39;00m\u001b[38;5;21;01mpython\u001b[39;00m \u001b[38;5;28;01mimport\u001b[39;00m cp_model\n\u001b[0;32m      3\u001b[0m \u001b[38;5;66;03m# Create the model\u001b[39;00m\n\u001b[0;32m      4\u001b[0m model \u001b[38;5;241m=\u001b[39m cp_model\u001b[38;5;241m.\u001b[39mCpModel()\n",
      "\u001b[1;31mModuleNotFoundError\u001b[0m: No module named 'ortools'"
     ]
    }
   ],
   "source": [
    "from ortools.sat.python import cp_model\n",
    "\n",
    "# Create the model\n",
    "model = cp_model.CpModel()\n",
    "\n",
    "# Define variables for each day of the week (0 = not working, 1 = working)\n",
    "D1_Monday = model.NewBoolVar('D1_Monday')\n",
    "D1_Tuesday = model.NewBoolVar('D1_Tuesday')\n",
    "D1_Wednesday = model.NewBoolVar('D1_Wednesday')\n",
    "D1_Thursday = model.NewBoolVar('D1_Thursday')\n",
    "D1_Friday = model.NewBoolVar('D1_Friday')\n",
    "\n",
    "D2_Monday = model.NewBoolVar('D2_Monday')\n",
    "D2_Tuesday = model.NewBoolVar('D2_Tuesday')\n",
    "D2_Wednesday = model.NewBoolVar('D2_Wednesday')\n",
    "D2_Thursday = model.NewBoolVar('D2_Thursday')\n",
    "D2_Friday = model.NewBoolVar('D2_Friday')\n",
    "\n",
    "# Constraints\n",
    "\n",
    "# Workload balance constraint (equal work hours)\n",
    "model.Add(D1_Monday + D1_Tuesday + D1_Wednesday + D1_Thursday + D1_Friday == \n",
    "          D2_Monday + D2_Tuesday + D2_Wednesday + D2_Thursday + D2_Friday)\n",
    "\n",
    "# No consecutive work on Wednesday and Thursday\n",
    "model.Add(D1_Wednesday == 0 or D1_Thursday == 0)\n",
    "model.Add(D2_Wednesday == 0 or D2_Thursday == 0)\n",
    "\n",
    "# Create a solver and solve the model\n",
    "solver = cp_model.CpSolver()\n",
    "status = solver.Solve(model)\n",
    "\n",
    "# Output the solution\n",
    "if status == cp_model.OPTIMAL or status == cp_model.FEASIBLE:\n",
    "    print(\"Solution found:\")\n",
    "    print(f\"Doctor 1: Monday={solver.Value(D1_Monday)}, Tuesday={solver.Value(D1_Tuesday)}, Wednesday={solver.Value(D1_Wednesday)}, Thursday={solver.Value(D1_Thursday)}, Friday={solver.Value(D1_Friday)}\")\n",
    "    print(f\"Doctor 2: Monday={solver.Value(D2_Monday)}, Tuesday={solver.Value(D2_Tuesday)}, Wednesday={solver.Value(D2_Wednesday)}, Thursday={solver.Value(D2_Thursday)}, Friday={solver.Value(D2_Friday)}\")\n",
    "else:\n",
    "    print(\"No solution found\")\n"
   ]
  },
  {
   "cell_type": "code",
   "execution_count": null,
   "id": "3510d3f9-6e7a-472f-b987-33eb6f667e7e",
   "metadata": {},
   "outputs": [],
   "source": []
  }
 ],
 "metadata": {
  "kernelspec": {
   "display_name": "Python 3 (ipykernel)",
   "language": "python",
   "name": "python3"
  },
  "language_info": {
   "codemirror_mode": {
    "name": "ipython",
    "version": 3
   },
   "file_extension": ".py",
   "mimetype": "text/x-python",
   "name": "python",
   "nbconvert_exporter": "python",
   "pygments_lexer": "ipython3",
   "version": "3.12.4"
  }
 },
 "nbformat": 4,
 "nbformat_minor": 5
}
