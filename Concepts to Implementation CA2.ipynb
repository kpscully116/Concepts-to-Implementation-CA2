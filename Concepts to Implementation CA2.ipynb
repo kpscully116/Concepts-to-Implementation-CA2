{
 "cells": [
  {
   "cell_type": "code",
   "execution_count": 1,
   "id": "8d814d7a-b1ab-48b6-9979-c992d2bce4ac",
   "metadata": {},
   "outputs": [],
   "source": [
    "import numpy as np\n",
    "import pandas as pd\n",
    "import tensorflow as tf\n",
    "import seaborn as sns\n",
    "import matplotlib.pyplot as plt\n",
    "from ortools.sat.python import cp_model\n",
    "from constraint import Problem, AllDifferentConstraint"
   ]
  },
  {
   "cell_type": "code",
   "execution_count": 3,
   "id": "d41bd36a-d16a-4a9a-9f1a-2a1b77901b71",
   "metadata": {},
   "outputs": [
    {
     "name": "stdout",
     "output_type": "stream",
     "text": [
      "Service Schedule\n",
      "Week1_Monday_Routine Checkup_Dr1:\t0\n",
      "Week1_Monday_Routine Checkup_Dr2:\t7\n",
      "Week2_Monday_Routine Checkup_Dr1:\t0\n",
      "Week2_Monday_Routine Checkup_Dr2:\t7\n",
      "Week1_Tuesday_Routine Checkup_Dr1:\t7\n",
      "Week1_Tuesday_Routine Checkup_Dr2:\t0\n",
      "Week2_Tuesday_Routine Checkup_Dr1:\t7\n",
      "Week2_Tuesday_Routine Checkup_Dr2:\t0\n",
      "Week1_Wednesday_Routine Checkup_Dr1:\t7\n",
      "Week1_Wednesday_Routine Checkup_Dr2:\t0\n",
      "Week2_Wednesday_Routine Checkup_Dr1:\t7\n",
      "Week2_Wednesday_Routine Checkup_Dr2:\t0\n",
      "Week1_Friday_Routine Checkup_Dr1:\t0\n",
      "Week1_Friday_Routine Checkup_Dr2:\t7\n",
      "Week2_Friday_Routine Checkup_Dr1:\t0\n",
      "Week2_Friday_Routine Checkup_Dr2:\t7\n",
      "Week1_Wednesday_Blood Test_Dr1:\t0\n",
      "Week1_Wednesday_Blood Test_Dr2:\t4\n",
      "Week2_Wednesday_Blood Test_Dr1:\t4\n",
      "Week2_Wednesday_Blood Test_Dr2:\t0\n",
      "Week1_Thursday_Surgery_Dr1:\t0\n",
      "Week1_Thursday_Surgery_Dr2:\t5\n",
      "Week2_Thursday_Surgery_Dr1:\t5\n",
      "Week2_Thursday_Surgery_Dr2:\t0\n"
     ]
    }
   ],
   "source": [
    "# Define constants \n",
    "DOCTORS = ['Doctor 1', 'Doctor 2']\n",
    "SERVICES = {\n",
    "    'Routine_Checkup': 7,  # 9am - 4pm\n",
    "    'Blood_Test': 4,       # 9am - 1pm\n",
    "    'Surgery': 5           # 10am - 3pm\n",
    "}\n",
    "\n",
    "# Define the weekly schedule \n",
    "WEEKDAYS = ['Monday', 'Tuesday', 'Wednesday', 'Thursday', 'Friday']\n",
    "SERVICE_DAYS = {\n",
    "    'Routine_Checkup': ['Monday', 'Tuesday', 'Wednesday', 'Friday'],\n",
    "    'Blood_Test': ['Wednesday'],\n",
    "    'Surgery': ['Thursday']\n",
    "}\n",
    "\n",
    "# Define number of weeks \n",
    "NUM_WEEKS = 2  \n",
    "\n",
    "# Initialize \n",
    "problem = Problem()\n",
    "\n",
    "# Add variables for each service in each week, with domains of the doctors\n",
    "for week in range(1, NUM_WEEKS + 1):\n",
    "    for service in SERVICES.keys():\n",
    "        for day in SERVICE_DAYS[service]:\n",
    "            service_name = f\"{service}_{day}_Week{week}\"\n",
    "            problem.addVariable(service_name, DOCTORS)\n",
    "\n",
    "# Constraint 1: Balance the total hours worked for both doctors across all weeks\n",
    "def balance_workload(*assigned_doctors):\n",
    "    doctor_hours = {'Doctor 1': 0, 'Doctor 2': 0}\n",
    "    idx = 0\n",
    "    for service in SERVICES.keys():\n",
    "        for day in SERVICE_DAYS[service]:\n",
    "            for week in range(1, NUM_WEEKS + 1):\n",
    "                service_name = f\"{service}_{day}_Week{week}\"\n",
    "                doctor_hours[assigned_doctors[idx]] += SERVICES[service]\n",
    "                idx += 1\n",
    "    # Ensure both doctors have equal workload\n",
    "    return doctor_hours['Doctor 1'] == doctor_hours['Doctor 2']\n",
    "\n",
    "\n",
    "problem.addConstraint(balance_workload, [f\"{service}_{day}_Week{week}\" for service in SERVICES.keys() for day in SERVICE_DAYS[service] for week in range(1, NUM_WEEKS + 1)])\n",
    "\n",
    "# Get solutions to the CSP\n",
    "solutions = problem.getSolutions()\n",
    "\n",
    "# Display solutions \n",
    "if solutions:\n",
    "    solution = solutions[0]  # first solution\n",
    "    print(\"Service Schedule\")\n",
    "\n",
    "    for service, days in SERVICE_DAYS.items():\n",
    "        for day in days:\n",
    "            for week in range(1, NUM_WEEKS + 1):\n",
    "                service_name = f\"{service}_{day}_Week{week}\"\n",
    "                if service_name in solution:\n",
    "                    doctor = solution[service_name]\n",
    "                    # Print the doctor assignments for each service, week, and day\n",
    "                    if doctor == \"Doctor 1\":\n",
    "                        print(f\"Week{week}_{day}_{service.replace('_', ' ')}_Dr1:\\t{SERVICES[service]}\")\n",
    "                        print(f\"Week{week}_{day}_{service.replace('_', ' ')}_Dr2:\\t0\")\n",
    "                    elif doctor == \"Doctor 2\":\n",
    "                        print(f\"Week{week}_{day}_{service.replace('_', ' ')}_Dr1:\\t0\")\n",
    "                        print(f\"Week{week}_{day}_{service.replace('_', ' ')}_Dr2:\\t{SERVICES[service]}\")\n",
    "else:\n",
    "    print(\"No solution found\")"
   ]
  },
  {
   "cell_type": "code",
   "execution_count": 4,
   "id": "f4111954-6f67-4d0d-a038-fad41ff875c7",
   "metadata": {},
   "outputs": [
    {
     "name": "stdout",
     "output_type": "stream",
     "text": [
      "Number of possible solutions: 280\n"
     ]
    }
   ],
   "source": [
    "number_of_solutions = len(solutions)\n",
    "print(f\"Number of possible solutions: {number_of_solutions}\")"
   ]
  },
  {
   "cell_type": "code",
   "execution_count": null,
   "id": "a4724124-1567-4d10-8d8d-3739ea68c9e4",
   "metadata": {},
   "outputs": [],
   "source": []
  }
 ],
 "metadata": {
  "kernelspec": {
   "display_name": "Python 3 (ipykernel)",
   "language": "python",
   "name": "python3"
  },
  "language_info": {
   "codemirror_mode": {
    "name": "ipython",
    "version": 3
   },
   "file_extension": ".py",
   "mimetype": "text/x-python",
   "name": "python",
   "nbconvert_exporter": "python",
   "pygments_lexer": "ipython3",
   "version": "3.12.4"
  }
 },
 "nbformat": 4,
 "nbformat_minor": 5
}
